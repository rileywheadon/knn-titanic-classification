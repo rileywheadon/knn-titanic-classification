{
 "cells": [
  {
   "cell_type": "markdown",
   "id": "cf55dd8d-bb52-4fb8-8622-7fd81ce3629b",
   "metadata": {},
   "source": [
    "# Titanic Classification\n",
    "Riley Wheadon <br>\n",
    "December 26th, 2022"
   ]
  },
  {
   "cell_type": "code",
   "execution_count": 876,
   "id": "68fde9cb-6060-4639-a160-8db52377cb1c",
   "metadata": {},
   "outputs": [],
   "source": [
    "import pandas as pd\n",
    "import matplotlib.pyplot as plt\n",
    "import seaborn as sns\n",
    "import numpy as np\n",
    "\n",
    "titanic = pd.read_csv(\"raw/train.csv\")\n",
    "test = pd.read_csv(\"raw/test.csv\")"
   ]
  },
  {
   "cell_type": "markdown",
   "id": "50aef51a-26c8-45d2-a2e7-497ab720a3b3",
   "metadata": {},
   "source": [
    "## Preliminary Analysis"
   ]
  },
  {
   "cell_type": "code",
   "execution_count": 877,
   "id": "27c3c66d-100f-4951-bb8a-9db2090c6787",
   "metadata": {},
   "outputs": [
    {
     "data": {
      "text/html": [
       "<div>\n",
       "<style scoped>\n",
       "    .dataframe tbody tr th:only-of-type {\n",
       "        vertical-align: middle;\n",
       "    }\n",
       "\n",
       "    .dataframe tbody tr th {\n",
       "        vertical-align: top;\n",
       "    }\n",
       "\n",
       "    .dataframe thead th {\n",
       "        text-align: right;\n",
       "    }\n",
       "</style>\n",
       "<table border=\"1\" class=\"dataframe\">\n",
       "  <thead>\n",
       "    <tr style=\"text-align: right;\">\n",
       "      <th></th>\n",
       "      <th>PassengerId</th>\n",
       "      <th>Survived</th>\n",
       "      <th>Pclass</th>\n",
       "      <th>Name</th>\n",
       "      <th>Sex</th>\n",
       "      <th>Age</th>\n",
       "      <th>SibSp</th>\n",
       "      <th>Parch</th>\n",
       "      <th>Ticket</th>\n",
       "      <th>Fare</th>\n",
       "      <th>Cabin</th>\n",
       "      <th>Embarked</th>\n",
       "    </tr>\n",
       "  </thead>\n",
       "  <tbody>\n",
       "    <tr>\n",
       "      <th>0</th>\n",
       "      <td>1</td>\n",
       "      <td>0</td>\n",
       "      <td>3</td>\n",
       "      <td>Braund, Mr. Owen Harris</td>\n",
       "      <td>male</td>\n",
       "      <td>22.0</td>\n",
       "      <td>1</td>\n",
       "      <td>0</td>\n",
       "      <td>A/5 21171</td>\n",
       "      <td>7.2500</td>\n",
       "      <td>NaN</td>\n",
       "      <td>S</td>\n",
       "    </tr>\n",
       "    <tr>\n",
       "      <th>1</th>\n",
       "      <td>2</td>\n",
       "      <td>1</td>\n",
       "      <td>1</td>\n",
       "      <td>Cumings, Mrs. John Bradley (Florence Briggs Th...</td>\n",
       "      <td>female</td>\n",
       "      <td>38.0</td>\n",
       "      <td>1</td>\n",
       "      <td>0</td>\n",
       "      <td>PC 17599</td>\n",
       "      <td>71.2833</td>\n",
       "      <td>C85</td>\n",
       "      <td>C</td>\n",
       "    </tr>\n",
       "    <tr>\n",
       "      <th>2</th>\n",
       "      <td>3</td>\n",
       "      <td>1</td>\n",
       "      <td>3</td>\n",
       "      <td>Heikkinen, Miss. Laina</td>\n",
       "      <td>female</td>\n",
       "      <td>26.0</td>\n",
       "      <td>0</td>\n",
       "      <td>0</td>\n",
       "      <td>STON/O2. 3101282</td>\n",
       "      <td>7.9250</td>\n",
       "      <td>NaN</td>\n",
       "      <td>S</td>\n",
       "    </tr>\n",
       "    <tr>\n",
       "      <th>3</th>\n",
       "      <td>4</td>\n",
       "      <td>1</td>\n",
       "      <td>1</td>\n",
       "      <td>Futrelle, Mrs. Jacques Heath (Lily May Peel)</td>\n",
       "      <td>female</td>\n",
       "      <td>35.0</td>\n",
       "      <td>1</td>\n",
       "      <td>0</td>\n",
       "      <td>113803</td>\n",
       "      <td>53.1000</td>\n",
       "      <td>C123</td>\n",
       "      <td>S</td>\n",
       "    </tr>\n",
       "    <tr>\n",
       "      <th>4</th>\n",
       "      <td>5</td>\n",
       "      <td>0</td>\n",
       "      <td>3</td>\n",
       "      <td>Allen, Mr. William Henry</td>\n",
       "      <td>male</td>\n",
       "      <td>35.0</td>\n",
       "      <td>0</td>\n",
       "      <td>0</td>\n",
       "      <td>373450</td>\n",
       "      <td>8.0500</td>\n",
       "      <td>NaN</td>\n",
       "      <td>S</td>\n",
       "    </tr>\n",
       "  </tbody>\n",
       "</table>\n",
       "</div>"
      ],
      "text/plain": [
       "   PassengerId  Survived  Pclass  \\\n",
       "0            1         0       3   \n",
       "1            2         1       1   \n",
       "2            3         1       3   \n",
       "3            4         1       1   \n",
       "4            5         0       3   \n",
       "\n",
       "                                                Name     Sex   Age  SibSp  \\\n",
       "0                            Braund, Mr. Owen Harris    male  22.0      1   \n",
       "1  Cumings, Mrs. John Bradley (Florence Briggs Th...  female  38.0      1   \n",
       "2                             Heikkinen, Miss. Laina  female  26.0      0   \n",
       "3       Futrelle, Mrs. Jacques Heath (Lily May Peel)  female  35.0      1   \n",
       "4                           Allen, Mr. William Henry    male  35.0      0   \n",
       "\n",
       "   Parch            Ticket     Fare Cabin Embarked  \n",
       "0      0         A/5 21171   7.2500   NaN        S  \n",
       "1      0          PC 17599  71.2833   C85        C  \n",
       "2      0  STON/O2. 3101282   7.9250   NaN        S  \n",
       "3      0            113803  53.1000  C123        S  \n",
       "4      0            373450   8.0500   NaN        S  "
      ]
     },
     "execution_count": 877,
     "metadata": {},
     "output_type": "execute_result"
    }
   ],
   "source": [
    "titanic.head()"
   ]
  },
  {
   "cell_type": "code",
   "execution_count": 878,
   "id": "208896dd-c302-48a2-ab0a-194643c69e3f",
   "metadata": {},
   "outputs": [
    {
     "data": {
      "text/html": [
       "<div>\n",
       "<style scoped>\n",
       "    .dataframe tbody tr th:only-of-type {\n",
       "        vertical-align: middle;\n",
       "    }\n",
       "\n",
       "    .dataframe tbody tr th {\n",
       "        vertical-align: top;\n",
       "    }\n",
       "\n",
       "    .dataframe thead th {\n",
       "        text-align: right;\n",
       "    }\n",
       "</style>\n",
       "<table border=\"1\" class=\"dataframe\">\n",
       "  <thead>\n",
       "    <tr style=\"text-align: right;\">\n",
       "      <th></th>\n",
       "      <th>PassengerId</th>\n",
       "      <th>Pclass</th>\n",
       "      <th>Name</th>\n",
       "      <th>Sex</th>\n",
       "      <th>Age</th>\n",
       "      <th>SibSp</th>\n",
       "      <th>Parch</th>\n",
       "      <th>Ticket</th>\n",
       "      <th>Fare</th>\n",
       "      <th>Cabin</th>\n",
       "      <th>Embarked</th>\n",
       "    </tr>\n",
       "  </thead>\n",
       "  <tbody>\n",
       "    <tr>\n",
       "      <th>0</th>\n",
       "      <td>892</td>\n",
       "      <td>3</td>\n",
       "      <td>Kelly, Mr. James</td>\n",
       "      <td>male</td>\n",
       "      <td>34.5</td>\n",
       "      <td>0</td>\n",
       "      <td>0</td>\n",
       "      <td>330911</td>\n",
       "      <td>7.8292</td>\n",
       "      <td>NaN</td>\n",
       "      <td>Q</td>\n",
       "    </tr>\n",
       "    <tr>\n",
       "      <th>1</th>\n",
       "      <td>893</td>\n",
       "      <td>3</td>\n",
       "      <td>Wilkes, Mrs. James (Ellen Needs)</td>\n",
       "      <td>female</td>\n",
       "      <td>47.0</td>\n",
       "      <td>1</td>\n",
       "      <td>0</td>\n",
       "      <td>363272</td>\n",
       "      <td>7.0000</td>\n",
       "      <td>NaN</td>\n",
       "      <td>S</td>\n",
       "    </tr>\n",
       "    <tr>\n",
       "      <th>2</th>\n",
       "      <td>894</td>\n",
       "      <td>2</td>\n",
       "      <td>Myles, Mr. Thomas Francis</td>\n",
       "      <td>male</td>\n",
       "      <td>62.0</td>\n",
       "      <td>0</td>\n",
       "      <td>0</td>\n",
       "      <td>240276</td>\n",
       "      <td>9.6875</td>\n",
       "      <td>NaN</td>\n",
       "      <td>Q</td>\n",
       "    </tr>\n",
       "    <tr>\n",
       "      <th>3</th>\n",
       "      <td>895</td>\n",
       "      <td>3</td>\n",
       "      <td>Wirz, Mr. Albert</td>\n",
       "      <td>male</td>\n",
       "      <td>27.0</td>\n",
       "      <td>0</td>\n",
       "      <td>0</td>\n",
       "      <td>315154</td>\n",
       "      <td>8.6625</td>\n",
       "      <td>NaN</td>\n",
       "      <td>S</td>\n",
       "    </tr>\n",
       "    <tr>\n",
       "      <th>4</th>\n",
       "      <td>896</td>\n",
       "      <td>3</td>\n",
       "      <td>Hirvonen, Mrs. Alexander (Helga E Lindqvist)</td>\n",
       "      <td>female</td>\n",
       "      <td>22.0</td>\n",
       "      <td>1</td>\n",
       "      <td>1</td>\n",
       "      <td>3101298</td>\n",
       "      <td>12.2875</td>\n",
       "      <td>NaN</td>\n",
       "      <td>S</td>\n",
       "    </tr>\n",
       "  </tbody>\n",
       "</table>\n",
       "</div>"
      ],
      "text/plain": [
       "   PassengerId  Pclass                                          Name     Sex  \\\n",
       "0          892       3                              Kelly, Mr. James    male   \n",
       "1          893       3              Wilkes, Mrs. James (Ellen Needs)  female   \n",
       "2          894       2                     Myles, Mr. Thomas Francis    male   \n",
       "3          895       3                              Wirz, Mr. Albert    male   \n",
       "4          896       3  Hirvonen, Mrs. Alexander (Helga E Lindqvist)  female   \n",
       "\n",
       "    Age  SibSp  Parch   Ticket     Fare Cabin Embarked  \n",
       "0  34.5      0      0   330911   7.8292   NaN        Q  \n",
       "1  47.0      1      0   363272   7.0000   NaN        S  \n",
       "2  62.0      0      0   240276   9.6875   NaN        Q  \n",
       "3  27.0      0      0   315154   8.6625   NaN        S  \n",
       "4  22.0      1      1  3101298  12.2875   NaN        S  "
      ]
     },
     "execution_count": 878,
     "metadata": {},
     "output_type": "execute_result"
    }
   ],
   "source": [
    "test.head()"
   ]
  },
  {
   "cell_type": "markdown",
   "id": "9fdfb073-671e-4a57-b673-f0c5e7e9003d",
   "metadata": {},
   "source": [
    "## Feature Engineering\n",
    "- Get titles from Name (DONE)\n",
    "- Bin age (DONE)\n",
    "- Combine SibSp and Parch into a single variable (DONE)\n",
    "- Remove Ticket (DONE)\n",
    "- Fare = Log(Fare) (DONE)\n",
    "- Group Cabin into M, Other (DONE)"
   ]
  },
  {
   "cell_type": "code",
   "execution_count": 879,
   "id": "b9bc127f-fd02-4042-abdc-0722b1f85929",
   "metadata": {
    "tags": []
   },
   "outputs": [
    {
     "name": "stdout",
     "output_type": "stream",
     "text": [
      "\n",
      "TRAINING SET:\n",
      "(891, 12)\n",
      "PassengerId      0\n",
      "Survived         0\n",
      "Pclass           0\n",
      "Name             0\n",
      "Sex              0\n",
      "Age            177\n",
      "SibSp            0\n",
      "Parch            0\n",
      "Ticket           0\n",
      "Fare             0\n",
      "Cabin          687\n",
      "Embarked         2\n",
      "dtype: int64\n",
      "\n",
      "TESTING SET:\n",
      "(418, 11)\n",
      "PassengerId      0\n",
      "Pclass           0\n",
      "Name             0\n",
      "Sex              0\n",
      "Age             86\n",
      "SibSp            0\n",
      "Parch            0\n",
      "Ticket           0\n",
      "Fare             1\n",
      "Cabin          327\n",
      "Embarked         0\n",
      "dtype: int64\n",
      "    \n"
     ]
    }
   ],
   "source": [
    "#Print the Shape and Count Null Values\n",
    "def overview():\n",
    "    print(f\"\"\"\n",
    "TRAINING SET:\n",
    "{titanic.shape}\n",
    "{titanic.isna().sum()}\n",
    "\n",
    "TESTING SET:\n",
    "{test.shape}\n",
    "{test.isna().sum()}\n",
    "    \"\"\")\n",
    "\n",
    "overview()"
   ]
  },
  {
   "cell_type": "code",
   "execution_count": 880,
   "id": "9f36f66d-45df-4f24-9012-4931ee59fc1e",
   "metadata": {},
   "outputs": [],
   "source": [
    "for df in [titanic, test]:\n",
    "    df['Age'] = df['Age'].fillna(df['Age'].mean())\n",
    "    df['Cabin'] = df['Cabin'].fillna('M')\n",
    "    \n",
    "titanic['Embarked'] = titanic['Embarked'].fillna('C')\n",
    "test['Fare'] = test['Fare'].fillna(5)"
   ]
  },
  {
   "cell_type": "code",
   "execution_count": 881,
   "id": "656685a1-bbad-488d-a76e-24f7aad716d6",
   "metadata": {},
   "outputs": [
    {
     "data": {
      "text/plain": [
       "<AxesSubplot:xlabel='Age', ylabel='count'>"
      ]
     },
     "execution_count": 881,
     "metadata": {},
     "output_type": "execute_result"
    },
    {
     "data": {
      "image/png": "[encoded data removed]",
      "text/plain": [
       "<Figure size 432x288 with 1 Axes>"
      ]
     },
     "metadata": {
      "needs_background": "light"
     },
     "output_type": "display_data"
    }
   ],
   "source": [
    "titanic['Age'] = pd.cut(\n",
    "    titanic.Age, \n",
    "    bins = [-1,5,20,30,65,99],\n",
    "    labels = ['Infant', 'Child', 'Young Adult', 'Adult', 'Senior'])\n",
    "\n",
    "sns.countplot(data = titanic, x = 'Age', hue = 'Survived')"
   ]
  },
  {
   "cell_type": "code",
   "execution_count": 882,
   "id": "42cedcbf-84c2-416e-8062-6490cd8972ac",
   "metadata": {},
   "outputs": [
    {
     "data": {
      "text/plain": [
       "<AxesSubplot:xlabel='Title', ylabel='count'>"
      ]
     },
     "execution_count": 882,
     "metadata": {},
     "output_type": "execute_result"
    },
    {
     "data": {
      "image/png": "[encoded data removed]",
      "text/plain": [
       "<Figure size 432x288 with 1 Axes>"
      ]
     },
     "metadata": {
      "needs_background": "light"
     },
     "output_type": "display_data"
    }
   ],
   "source": [
    "titanic['Title'] = titanic.Name.apply(lambda x: x.split(',')[1].split('.')[0].strip())\n",
    "\n",
    "for row in titanic.index:\n",
    "    if titanic[\"Title\"][row] not in ['Mr', 'Mrs', 'Miss', 'Master']:\n",
    "        titanic.at[row, \"Title\"] = \"Other\"\n",
    "        \n",
    "titanic\n",
    "\n",
    "sns.countplot(data = titanic, x = 'Title', hue = 'Survived')"
   ]
  },
  {
   "cell_type": "code",
   "execution_count": 883,
   "id": "fbb52956-8018-467e-abb8-d4a1e9b7317c",
   "metadata": {},
   "outputs": [
    {
     "data": {
      "text/plain": [
       "<seaborn.axisgrid.FacetGrid at 0x28f5900a0>"
      ]
     },
     "execution_count": 883,
     "metadata": {},
     "output_type": "execute_result"
    },
    {
     "data": {
      "image/png": "[encoded data removed]",
      "text/plain": [
       "<Figure size 411.875x360 with 1 Axes>"
      ]
     },
     "metadata": {
      "needs_background": "light"
     },
     "output_type": "display_data"
    }
   ],
   "source": [
    "titanic['Fare'] = titanic['Fare'].transform(lambda x: x + 1)\n",
    "titanic['Fare'] = np.log(titanic['Fare'])\n",
    "\n",
    "sns.displot(titanic, x=\"Fare\", kind=\"kde\", hue = \"Survived\")"
   ]
  },
  {
   "cell_type": "code",
   "execution_count": 884,
   "id": "4844c5ca-0de0-4ec5-b811-198475c76e8d",
   "metadata": {},
   "outputs": [
    {
     "data": {
      "text/plain": [
       "<AxesSubplot:xlabel='Company', ylabel='count'>"
      ]
     },
     "execution_count": 884,
     "metadata": {},
     "output_type": "execute_result"
    },
    {
     "data": {
      "image/png": "[encoded data removed]",
      "text/plain": [
       "<Figure size 432x288 with 1 Axes>"
      ]
     },
     "metadata": {
      "needs_background": "light"
     },
     "output_type": "display_data"
    }
   ],
   "source": [
    "for row in titanic.index:\n",
    "    if titanic[\"SibSp\"][row] == 0 and titanic[\"Parch\"][row] == 0:\n",
    "        titanic.at[row, \"SibSp\"] = \"Alone\"\n",
    "    else:\n",
    "        titanic.at[row, \"SibSp\"] = \"Family\"\n",
    "        \n",
    "titanic = titanic.drop(\"Parch\", axis = 1)\n",
    "titanic.rename(columns = {'SibSp':'Company'}, inplace = True)\n",
    "  \n",
    "sns.countplot(data = titanic, x = 'Company', hue = 'Survived')"
   ]
  },
  {
   "cell_type": "code",
   "execution_count": 885,
   "id": "b4c6d5ee-c228-44e6-addc-121b49e14f85",
   "metadata": {},
   "outputs": [
    {
     "data": {
      "text/plain": [
       "<AxesSubplot:xlabel='Cabin', ylabel='count'>"
      ]
     },
     "execution_count": 885,
     "metadata": {},
     "output_type": "execute_result"
    },
    {
     "data": {
      "image/png": "[encoded data removed]",
      "text/plain": [
       "<Figure size 432x288 with 1 Axes>"
      ]
     },
     "metadata": {
      "needs_background": "light"
     },
     "output_type": "display_data"
    }
   ],
   "source": [
    "titanic['Cabin'] = titanic['Cabin'].where(titanic['Cabin'].isin(['M']), 'Other')\n",
    "sns.countplot(data = titanic, x = 'Cabin', hue = 'Survived')"
   ]
  },
  {
   "cell_type": "code",
   "execution_count": 886,
   "id": "8be8a8b2-485a-4474-a9c3-170472bc5d0a",
   "metadata": {},
   "outputs": [
    {
     "data": {
      "text/html": [
       "<div>\n",
       "<style scoped>\n",
       "    .dataframe tbody tr th:only-of-type {\n",
       "        vertical-align: middle;\n",
       "    }\n",
       "\n",
       "    .dataframe tbody tr th {\n",
       "        vertical-align: top;\n",
       "    }\n",
       "\n",
       "    .dataframe thead th {\n",
       "        text-align: right;\n",
       "    }\n",
       "</style>\n",
       "<table border=\"1\" class=\"dataframe\">\n",
       "  <thead>\n",
       "    <tr style=\"text-align: right;\">\n",
       "      <th></th>\n",
       "      <th>PassengerId</th>\n",
       "      <th>Survived</th>\n",
       "      <th>Pclass</th>\n",
       "      <th>Sex</th>\n",
       "      <th>Age</th>\n",
       "      <th>Company</th>\n",
       "      <th>Fare</th>\n",
       "      <th>Cabin</th>\n",
       "      <th>Embarked</th>\n",
       "      <th>Title</th>\n",
       "    </tr>\n",
       "  </thead>\n",
       "  <tbody>\n",
       "    <tr>\n",
       "      <th>0</th>\n",
       "      <td>1</td>\n",
       "      <td>0</td>\n",
       "      <td>3</td>\n",
       "      <td>male</td>\n",
       "      <td>Young Adult</td>\n",
       "      <td>Family</td>\n",
       "      <td>2.110213</td>\n",
       "      <td>M</td>\n",
       "      <td>S</td>\n",
       "      <td>Mr</td>\n",
       "    </tr>\n",
       "    <tr>\n",
       "      <th>1</th>\n",
       "      <td>2</td>\n",
       "      <td>1</td>\n",
       "      <td>1</td>\n",
       "      <td>female</td>\n",
       "      <td>Adult</td>\n",
       "      <td>Family</td>\n",
       "      <td>4.280593</td>\n",
       "      <td>Other</td>\n",
       "      <td>C</td>\n",
       "      <td>Mrs</td>\n",
       "    </tr>\n",
       "    <tr>\n",
       "      <th>2</th>\n",
       "      <td>3</td>\n",
       "      <td>1</td>\n",
       "      <td>3</td>\n",
       "      <td>female</td>\n",
       "      <td>Young Adult</td>\n",
       "      <td>Alone</td>\n",
       "      <td>2.188856</td>\n",
       "      <td>M</td>\n",
       "      <td>S</td>\n",
       "      <td>Miss</td>\n",
       "    </tr>\n",
       "    <tr>\n",
       "      <th>3</th>\n",
       "      <td>4</td>\n",
       "      <td>1</td>\n",
       "      <td>1</td>\n",
       "      <td>female</td>\n",
       "      <td>Adult</td>\n",
       "      <td>Family</td>\n",
       "      <td>3.990834</td>\n",
       "      <td>Other</td>\n",
       "      <td>S</td>\n",
       "      <td>Mrs</td>\n",
       "    </tr>\n",
       "    <tr>\n",
       "      <th>4</th>\n",
       "      <td>5</td>\n",
       "      <td>0</td>\n",
       "      <td>3</td>\n",
       "      <td>male</td>\n",
       "      <td>Adult</td>\n",
       "      <td>Alone</td>\n",
       "      <td>2.202765</td>\n",
       "      <td>M</td>\n",
       "      <td>S</td>\n",
       "      <td>Mr</td>\n",
       "    </tr>\n",
       "  </tbody>\n",
       "</table>\n",
       "</div>"
      ],
      "text/plain": [
       "   PassengerId  Survived  Pclass     Sex          Age Company      Fare  \\\n",
       "0            1         0       3    male  Young Adult  Family  2.110213   \n",
       "1            2         1       1  female        Adult  Family  4.280593   \n",
       "2            3         1       3  female  Young Adult   Alone  2.188856   \n",
       "3            4         1       1  female        Adult  Family  3.990834   \n",
       "4            5         0       3    male        Adult   Alone  2.202765   \n",
       "\n",
       "   Cabin Embarked Title  \n",
       "0      M        S    Mr  \n",
       "1  Other        C   Mrs  \n",
       "2      M        S  Miss  \n",
       "3  Other        S   Mrs  \n",
       "4      M        S    Mr  "
      ]
     },
     "execution_count": 886,
     "metadata": {},
     "output_type": "execute_result"
    }
   ],
   "source": [
    "titanic = titanic.drop(['Name', 'Ticket'], axis = 1)\n",
    "titanic.head()"
   ]
  },
  {
   "cell_type": "code",
   "execution_count": 887,
   "id": "ffc0c707-c5ba-4893-aa37-43e7b396eab9",
   "metadata": {},
   "outputs": [
    {
     "data": {
      "text/html": [
       "<div>\n",
       "<style scoped>\n",
       "    .dataframe tbody tr th:only-of-type {\n",
       "        vertical-align: middle;\n",
       "    }\n",
       "\n",
       "    .dataframe tbody tr th {\n",
       "        vertical-align: top;\n",
       "    }\n",
       "\n",
       "    .dataframe thead th {\n",
       "        text-align: right;\n",
       "    }\n",
       "</style>\n",
       "<table border=\"1\" class=\"dataframe\">\n",
       "  <thead>\n",
       "    <tr style=\"text-align: right;\">\n",
       "      <th></th>\n",
       "      <th>PassengerId</th>\n",
       "      <th>Pclass</th>\n",
       "      <th>Sex</th>\n",
       "      <th>Age</th>\n",
       "      <th>Company</th>\n",
       "      <th>Fare</th>\n",
       "      <th>Cabin</th>\n",
       "      <th>Embarked</th>\n",
       "      <th>Title</th>\n",
       "    </tr>\n",
       "  </thead>\n",
       "  <tbody>\n",
       "    <tr>\n",
       "      <th>0</th>\n",
       "      <td>892</td>\n",
       "      <td>3</td>\n",
       "      <td>male</td>\n",
       "      <td>Adult</td>\n",
       "      <td>Alone</td>\n",
       "      <td>2.178064</td>\n",
       "      <td>M</td>\n",
       "      <td>Q</td>\n",
       "      <td>Mr</td>\n",
       "    </tr>\n",
       "    <tr>\n",
       "      <th>1</th>\n",
       "      <td>893</td>\n",
       "      <td>3</td>\n",
       "      <td>female</td>\n",
       "      <td>Adult</td>\n",
       "      <td>Family</td>\n",
       "      <td>2.079442</td>\n",
       "      <td>M</td>\n",
       "      <td>S</td>\n",
       "      <td>Mrs</td>\n",
       "    </tr>\n",
       "    <tr>\n",
       "      <th>2</th>\n",
       "      <td>894</td>\n",
       "      <td>2</td>\n",
       "      <td>male</td>\n",
       "      <td>Adult</td>\n",
       "      <td>Alone</td>\n",
       "      <td>2.369075</td>\n",
       "      <td>M</td>\n",
       "      <td>Q</td>\n",
       "      <td>Mr</td>\n",
       "    </tr>\n",
       "    <tr>\n",
       "      <th>3</th>\n",
       "      <td>895</td>\n",
       "      <td>3</td>\n",
       "      <td>male</td>\n",
       "      <td>Young Adult</td>\n",
       "      <td>Alone</td>\n",
       "      <td>2.268252</td>\n",
       "      <td>M</td>\n",
       "      <td>S</td>\n",
       "      <td>Mr</td>\n",
       "    </tr>\n",
       "    <tr>\n",
       "      <th>4</th>\n",
       "      <td>896</td>\n",
       "      <td>3</td>\n",
       "      <td>female</td>\n",
       "      <td>Young Adult</td>\n",
       "      <td>Family</td>\n",
       "      <td>2.586824</td>\n",
       "      <td>M</td>\n",
       "      <td>S</td>\n",
       "      <td>Mrs</td>\n",
       "    </tr>\n",
       "    <tr>\n",
       "      <th>...</th>\n",
       "      <td>...</td>\n",
       "      <td>...</td>\n",
       "      <td>...</td>\n",
       "      <td>...</td>\n",
       "      <td>...</td>\n",
       "      <td>...</td>\n",
       "      <td>...</td>\n",
       "      <td>...</td>\n",
       "      <td>...</td>\n",
       "    </tr>\n",
       "    <tr>\n",
       "      <th>413</th>\n",
       "      <td>1305</td>\n",
       "      <td>3</td>\n",
       "      <td>male</td>\n",
       "      <td>Adult</td>\n",
       "      <td>Alone</td>\n",
       "      <td>2.202765</td>\n",
       "      <td>M</td>\n",
       "      <td>S</td>\n",
       "      <td>Mr</td>\n",
       "    </tr>\n",
       "    <tr>\n",
       "      <th>414</th>\n",
       "      <td>1306</td>\n",
       "      <td>1</td>\n",
       "      <td>female</td>\n",
       "      <td>Adult</td>\n",
       "      <td>Alone</td>\n",
       "      <td>4.699571</td>\n",
       "      <td>Other</td>\n",
       "      <td>C</td>\n",
       "      <td>Other</td>\n",
       "    </tr>\n",
       "    <tr>\n",
       "      <th>415</th>\n",
       "      <td>1307</td>\n",
       "      <td>3</td>\n",
       "      <td>male</td>\n",
       "      <td>Adult</td>\n",
       "      <td>Alone</td>\n",
       "      <td>2.110213</td>\n",
       "      <td>M</td>\n",
       "      <td>S</td>\n",
       "      <td>Mr</td>\n",
       "    </tr>\n",
       "    <tr>\n",
       "      <th>416</th>\n",
       "      <td>1308</td>\n",
       "      <td>3</td>\n",
       "      <td>male</td>\n",
       "      <td>Adult</td>\n",
       "      <td>Alone</td>\n",
       "      <td>2.202765</td>\n",
       "      <td>M</td>\n",
       "      <td>S</td>\n",
       "      <td>Mr</td>\n",
       "    </tr>\n",
       "    <tr>\n",
       "      <th>417</th>\n",
       "      <td>1309</td>\n",
       "      <td>3</td>\n",
       "      <td>male</td>\n",
       "      <td>Adult</td>\n",
       "      <td>Family</td>\n",
       "      <td>3.150952</td>\n",
       "      <td>M</td>\n",
       "      <td>C</td>\n",
       "      <td>Master</td>\n",
       "    </tr>\n",
       "  </tbody>\n",
       "</table>\n",
       "<p>418 rows × 9 columns</p>\n",
       "</div>"
      ],
      "text/plain": [
       "     PassengerId  Pclass     Sex          Age Company      Fare  Cabin  \\\n",
       "0            892       3    male        Adult   Alone  2.178064      M   \n",
       "1            893       3  female        Adult  Family  2.079442      M   \n",
       "2            894       2    male        Adult   Alone  2.369075      M   \n",
       "3            895       3    male  Young Adult   Alone  2.268252      M   \n",
       "4            896       3  female  Young Adult  Family  2.586824      M   \n",
       "..           ...     ...     ...          ...     ...       ...    ...   \n",
       "413         1305       3    male        Adult   Alone  2.202765      M   \n",
       "414         1306       1  female        Adult   Alone  4.699571  Other   \n",
       "415         1307       3    male        Adult   Alone  2.110213      M   \n",
       "416         1308       3    male        Adult   Alone  2.202765      M   \n",
       "417         1309       3    male        Adult  Family  3.150952      M   \n",
       "\n",
       "    Embarked   Title  \n",
       "0          Q      Mr  \n",
       "1          S     Mrs  \n",
       "2          Q      Mr  \n",
       "3          S      Mr  \n",
       "4          S     Mrs  \n",
       "..       ...     ...  \n",
       "413        S      Mr  \n",
       "414        C   Other  \n",
       "415        S      Mr  \n",
       "416        S      Mr  \n",
       "417        C  Master  \n",
       "\n",
       "[418 rows x 9 columns]"
      ]
     },
     "execution_count": 887,
     "metadata": {},
     "output_type": "execute_result"
    }
   ],
   "source": [
    "def preprocessing(df):\n",
    "    df['Age'] = pd.cut(\n",
    "        df.Age, \n",
    "        bins = [-1,5,20,30,65,99],\n",
    "        labels = ['Infant', 'Child', 'Young Adult', 'Adult', 'Senior']\n",
    "    )\n",
    "    \n",
    "    df['Title'] = df.Name.apply(lambda x: x.split(',')[1].split('.')[0].strip())\n",
    "\n",
    "    for row in df.index:\n",
    "        if df[\"Title\"][row] not in ['Mr', 'Mrs', 'Miss', 'Master']:\n",
    "            df.at[row, \"Title\"] = \"Other\"\n",
    "    \n",
    "    df['Fare'] = df['Fare'].transform(lambda x: x + 1)\n",
    "    df['Fare'] = np.log(df['Fare'])\n",
    "\n",
    "    for row in df.index:\n",
    "        if df[\"SibSp\"][row] == 0 and df[\"Parch\"][row] == 0:\n",
    "            df.at[row, \"SibSp\"] = \"Alone\"\n",
    "        else:\n",
    "            df.at[row, \"SibSp\"] = \"Family\"\n",
    "        \n",
    "    df = df.drop(\"Parch\", axis = 1)\n",
    "    df.rename(columns = {'SibSp':'Company'}, inplace = True)\n",
    "    df['Cabin'] = df['Cabin'].where(df['Cabin'].isin(['M']), 'Other')\n",
    "    df = df.drop(['Name', 'Ticket'], axis = 1)\n",
    "    \n",
    "    return df\n",
    "\n",
    "test = preprocessing(test)\n",
    "test"
   ]
  },
  {
   "cell_type": "code",
   "execution_count": 888,
   "id": "e3947fde-a3cd-4fe4-acc0-f332b9f42f3e",
   "metadata": {},
   "outputs": [],
   "source": [
    "titanic.to_csv('features/train_features.csv', index = False)\n",
    "test.to_csv('features/test_features.csv', index = False)"
   ]
  }
 ],
 "metadata": {
  "kernelspec": {
   "display_name": "Python 3 (ipykernel)",
   "language": "python",
   "name": "python3"
  },
  "language_info": {
   "codemirror_mode": {
    "name": "ipython",
    "version": 3
   },
   "file_extension": ".py",
   "mimetype": "text/x-python",
   "name": "python",
   "nbconvert_exporter": "python",
   "pygments_lexer": "ipython3",
   "version": "3.10.8"
  }
 },
 "nbformat": 4,
 "nbformat_minor": 5
}
